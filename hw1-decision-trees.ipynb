{
 "cells": [
  {
   "cell_type": "markdown",
   "metadata": {},
   "source": [
    "## Student #1 ID: 207047150"
   ]
  },
  {
   "cell_type": "markdown",
   "metadata": {},
   "source": [
    "## Student #2 ID: 206727638"
   ]
  },
  {
   "cell_type": "markdown",
   "metadata": {
    "nbgrader": {
     "grade": false,
     "grade_id": "cell-6bd0516e7cb654f5",
     "locked": true,
     "schema_version": 1,
     "solution": false
    }
   },
   "source": [
    "# Exercise 1: Decision Trees\n",
    "\n",
    "In this assignment you will implement a Decision Tree algorithm as learned in class.\n",
    "\n",
    "## Read the following instructions carefully:\n",
    "\n",
    "1. This jupyter notebook contains all the step by step instructions needed for this exercise.\n",
    "1. Write **efficient vectorized** code whenever possible. Some calculations in this exercise take several minutes when implemented efficiently, and might take much longer otherwise. Unnecessary loops will result in point deduction.\n",
    "1. You are responsible for the correctness of your code and should add as many tests as you see fit. Those tests will not be graded nor checked.\n",
    "1. You are free to add code and markdown cells as you see fit.\n",
    "1. Write your functions in this jupyter notebook only. Do not create external python modules and import from them.\n",
    "1. You are allowed to use functions and methods from the [Python Standard Library](https://docs.python.org/3/library/) and [numpy](https://www.numpy.org/devdocs/reference/) only, unless otherwise mentioned.\n",
    "1. Your code must run without errors. It is a good idea to restart the notebook and run it from end to end before you submit your exercise.\n",
    "1. Answers to qualitative questions should be written in **markdown cells (with $\\LaTeX$ support)**.\n",
    "1. Submit this jupyter notebook only using your ID as a filename. **No not use ZIP or RAR**. For example, your submission should look like this: `123456789.ipynb` if you worked by yourself or `123456789_987654321.ipynb` if you worked in pairs.\n",
    "\n",
    "## In this exercise you will perform the following:\n",
    "1. Practice OOP in python.\n",
    "2. Implement two impurity measures: Gini and Entropy.\n",
    "3. Construct a decision tree algorithm.\n",
    "4. Prune the tree to achieve better results.\n",
    "5. Visualize your results."
   ]
  },
  {
   "cell_type": "code",
   "execution_count": 23,
   "metadata": {
    "nbgrader": {
     "grade": false,
     "grade_id": "cell-ed9fe7b1026e33cb",
     "locked": true,
     "schema_version": 1,
     "solution": false
    }
   },
   "outputs": [
    {
     "name": "stdout",
     "output_type": "stream",
     "text": [
      "The autoreload extension is already loaded. To reload it, use:\n",
      "  %reload_ext autoreload\n"
     ]
    }
   ],
   "source": [
    "import numpy as np\n",
    "import pandas as pd\n",
    "import matplotlib.pyplot as plt\n",
    "\n",
    "# make matplotlib figures appear inline in the notebook\n",
    "%matplotlib inline\n",
    "plt.rcParams['figure.figsize'] = (10.0, 8.0) # set default size of plots\n",
    "plt.rcParams['image.interpolation'] = 'nearest'\n",
    "plt.rcParams['image.cmap'] = 'gray'\n",
    "\n",
    "# Make the notebook automatically reload external python modules\n",
    "%load_ext autoreload\n",
    "%autoreload 2"
   ]
  },
  {
   "cell_type": "markdown",
   "metadata": {
    "nbgrader": {
     "grade": false,
     "grade_id": "cell-c6ac605270c2b091",
     "locked": true,
     "schema_version": 1,
     "solution": false
    }
   },
   "source": [
    "## Warmup - OOP in python\n",
    "\n",
    "Our desicion tree will be implemented using a dedicated python class. Take a minute and practice your object oriented skills. Create a tree with some nodes and make sure you understand how objects in python work."
   ]
  },
  {
   "cell_type": "code",
   "execution_count": 24,
   "metadata": {},
   "outputs": [],
   "source": [
    "class Node(object):\n",
    "    def __init__(self, data):\n",
    "        self.data = data\n",
    "        self.children = []\n",
    "\n",
    "    def add_child(self, node):\n",
    "        self.children.append(node)"
   ]
  },
  {
   "cell_type": "code",
   "execution_count": 25,
   "metadata": {},
   "outputs": [
    {
     "data": {
      "text/plain": "[<__main__.Node at 0x1e5142684f0>, <__main__.Node at 0x1e514110c10>]"
     },
     "execution_count": 25,
     "metadata": {},
     "output_type": "execute_result"
    }
   ],
   "source": [
    "n = Node(5)\n",
    "p = Node(6)\n",
    "q = Node(7)\n",
    "n.add_child(p)\n",
    "n.add_child(q)\n",
    "n.children"
   ]
  },
  {
   "cell_type": "markdown",
   "metadata": {
    "nbgrader": {
     "grade": false,
     "grade_id": "cell-2f1ceb251c649b62",
     "locked": true,
     "schema_version": 1,
     "solution": false
    }
   },
   "source": [
    "## Data preprocessing\n",
    "\n",
    "We will use the breast cancer dataset that is available as a part of sklearn. In this example, our dataset will be a single matrix with the **labels on the last column**. Notice that you are not allowed to use additional functions from sklearn."
   ]
  },
  {
   "cell_type": "code",
   "execution_count": 26,
   "metadata": {
    "nbgrader": {
     "grade": false,
     "grade_id": "cell-d79cb4542926ad3f",
     "locked": true,
     "schema_version": 1,
     "solution": false
    }
   },
   "outputs": [
    {
     "name": "stdout",
     "output_type": "stream",
     "text": [
      "Training dataset shape:  (426, 31)\n",
      "Testing dataset shape:  (143, 31)\n"
     ]
    }
   ],
   "source": [
    "from sklearn import datasets\n",
    "from sklearn.model_selection import train_test_split\n",
    "\n",
    "# load dataset\n",
    "X, y = datasets.load_breast_cancer(return_X_y = True)\n",
    "X = np.column_stack([X,y]) # the last column holds the labels\n",
    "\n",
    "# split dataset\n",
    "X_train, X_test = train_test_split(X, random_state=99)\n",
    "\n",
    "print(\"Training dataset shape: \", X_train.shape)\n",
    "print(\"Testing dataset shape: \", X_test.shape)\n",
    "\n"
   ]
  },
  {
   "cell_type": "code",
   "execution_count": 27,
   "metadata": {},
   "outputs": [
    {
     "name": "stdout",
     "output_type": "stream",
     "text": [
      "[168 258]\n",
      "[0. 1.]\n"
     ]
    }
   ],
   "source": [
    "\n",
    "lables = X_train[:,-1:]\n",
    "l, lable_count = np.unique(lables, return_counts= True)\n",
    "print(lable_count)\n",
    "print(l)"
   ]
  },
  {
   "cell_type": "markdown",
   "metadata": {
    "nbgrader": {
     "grade": false,
     "grade_id": "cell-fd7b0191f3f1e897",
     "locked": true,
     "schema_version": 1,
     "solution": false
    }
   },
   "source": [
    "## Impurity Measures (10 points)\n",
    "\n",
    "Impurity is a measure of how often a randomly chosen element from the set would be incorrectly labeled if it was randomly labeled according to the distribution of labels in the subset. Implement the functions `calc_gini` (5 points) and `calc_entropy` (5 points). You are encouraged to test your implementation."
   ]
  },
  {
   "cell_type": "code",
   "execution_count": 28,
   "metadata": {},
   "outputs": [],
   "source": [
    "def calc_gini(data):\n",
    "    \"\"\"\n",
    "    Calculate gini impurity measure of a dataset.\n",
    " \n",
    "    Input:\n",
    "    - data: any dataset where the last column holds the labels.\n",
    " \n",
    "    Returns the gini impurity.    \n",
    "    \"\"\"\n",
    "    gini = 1\n",
    "    ###########################################################################\n",
    "    # TODO: Implement the function.                                           #\n",
    "    ###########################################################################\n",
    "    lables = data[:,-1:]\n",
    "    _ , lable_count = np.unique(lables, return_counts= True)\n",
    "    sum_count = sum(lable_count)\n",
    "    for count in lable_count:\n",
    "        gini -= (count/sum_count)**2\n",
    "    ###########################################################################\n",
    "    #                             END OF YOUR CODE                            #\n",
    "    ###########################################################################\n",
    "    return gini"
   ]
  },
  {
   "cell_type": "code",
   "execution_count": 29,
   "metadata": {},
   "outputs": [],
   "source": [
    "def calc_entropy(data):\n",
    "    \"\"\"\n",
    "    Calculate the entropy of a dataset.\n",
    "\n",
    "    Input:\n",
    "    - data: any dataset where the last column holds the labels.\n",
    "\n",
    "    Returns the entropy of the dataset.    \n",
    "    \"\"\"\n",
    "    entropy = 0.0\n",
    "    ###########################################################################\n",
    "    # TODO: Implement the function.                                           #\n",
    "    ###########################################################################\n",
    "    lables = data[:,-1:]\n",
    "    _ , lable_count = np.unique(lables, return_counts= True)\n",
    "    sum_count = sum(lable_count)\n",
    "    for count in lable_count:\n",
    "        pj = count/sum_count\n",
    "        entropy -= pj*np.log(pj)  \n",
    "    ###########################################################################\n",
    "    #                             END OF YOUR CODE                            #\n",
    "    ###########################################################################\n",
    "    return entropy\n"
   ]
  },
  {
   "cell_type": "code",
   "execution_count": 30,
   "outputs": [
    {
     "data": {
      "text/plain": "array([[0.00269196, 0.65094996, 0.04399517, 1.        ],\n       [0.81910496, 0.18517757, 0.00783152, 1.        ],\n       [0.60516867, 0.44703712, 0.20934001, 1.        ],\n       [0.36774798, 0.2615676 , 0.35297144, 0.        ],\n       [0.53076609, 0.56451058, 0.17239323, 0.        ]])"
     },
     "execution_count": 30,
     "metadata": {},
     "output_type": "execute_result"
    }
   ],
   "source": [
    "rows, cols = 5, 4\n",
    "\n",
    "# Create a matrix with random numbers for all columns except the last\n",
    "matrix = np.random.rand(rows, cols - 1)\n",
    "\n",
    "# Add a column of random 0s and 1s as the last column\n",
    "last_col = np.random.choice([0, 1], size=(rows, 1))\n",
    "\n",
    "# Combine the matrix and the last column\n",
    "matrix = np.hstack((matrix, last_col))\n",
    "matrix"
   ],
   "metadata": {
    "collapsed": false
   }
  },
  {
   "cell_type": "markdown",
   "metadata": {},
   "source": [
    "## Building a Decision Tree (50 points)\n",
    "\n",
    "Use a Python class to construct the decision tree. Your class should support the following functionality:\n",
    "\n",
    "1. Initiating a node for a decision tree. You will need to use several class methods and class attributes and you are free to use them as you see fit. We recommend that every node will hold the **feature** and **value** used for the split and the **children** of that node. In addition, it might be a good idea to store the **prediction** in that node, the **height** of the tree for that node and whether or not that node is a **leaf** in the tree.\n",
    "2. Your code should support both Gini and Entropy as impurity measures. \n",
    "3. The provided data includes continuous data. For this exercise, create at most a **single split** for each node of the tree (your tree will be binary). Determine the threshold for splitting by checking all possible features and the values available for splitting. When considering the values, take the average of each consecutive pair. For example, for the values [1,2,3,4,5] you should test possible splits on the values [1.5, 2.5, 3.5, 4.5]. \n",
    "5. After you complete building the class for a decision node in the tree, complete the function `build_tree`. This function takes as input the training dataset and the impurity measure. Then, it initializes a root for the decision tree and constructs the tree according to the procedure you saw in class.\n",
    "1. Once you are finished, construct two trees: one with Gini as an impurity measure and the other using Entropy."
   ]
  },
  {
   "cell_type": "code",
   "execution_count": 33,
   "metadata": {},
   "outputs": [],
   "source": [
    "class DecisionNode:\n",
    "    '''\n",
    "    This class will hold everyhing you need to construct a node in a DT. You are required to \n",
    "    support basic functionality as previously described. It is highly recommended that you  \n",
    "    first read and understand the entire exercises before diving into this class.\n",
    "    You are allowed to change the structure of this class as you see fit.\n",
    "    '''\n",
    "\n",
    "\n",
    " \n",
    "    def __init__(self, data):\n",
    "        # you should take more arguments as inputs when initiating a new node\n",
    "        self.data = data\n",
    "        self.children = []\n",
    "\n",
    "        self.feature = None\n",
    "        self.splitting_value = None\n",
    "        self.score = None\n",
    "\n",
    "        self.leaf = True\n",
    "        self.height = 1\n",
    "\n",
    "    def add_child(self, node):\n",
    "        if (node):\n",
    "            self.children.append(node)\n",
    "            node.parent = self\n",
    "            if (self.leaf):\n",
    "                self.leaf = False\n",
    "            node.height += self.height\n",
    "     \n",
    "    def check_split(self, feature, value):\n",
    "        # this function divides the data according to a specific feature and value\n",
    "        # you should use this function while testing for the optimal split\n",
    "        group_A = self.data[self.data[:,feature] <= value]\n",
    "        group_B = self.data[self.data[:,feature] > value]\n",
    "        return group_A, group_B\n",
    "\n",
    "    def info_gain(self, impurity_measure, group_A, group_B):\n",
    "        '''\n",
    "\n",
    "        :param impurity_measure: can be either entropy or gini\n",
    "        :param group_A: one part of the data after splitting\n",
    "        :param group_B: second part of the data after splitting\n",
    "        :return: a score for the given split\n",
    "        '''\n",
    "        return (impurity_measure(self.data) - ((1/self.data.shape[0])* (group_A.shape[0] * impurity_measure(group_A) + group_B.shape[0] * impurity_measure(group_B))))\n",
    "\n",
    "\n",
    "    def split(self, impurity_measure):\n",
    "        # this function goes over all possible features and values and finds\n",
    "        # the optimal split according to the impurity measure. Note: you can\n",
    "        # send a function as an argument\n",
    "\n",
    "        #tuple in form (#split_score, #feature_index, #threshold_value)\n",
    "        best_split = {'score':-100, 'feature': None , 'threshold': None}\n",
    "\n",
    "        num_of_features = len(self.data[0]) - 1\n",
    "        for feature in range(num_of_features):\n",
    "            thresholds = self.set_thresholds(feature)\n",
    "            for threshold in thresholds:\n",
    "                group_A, group_B = self.check_split(feature, threshold)\n",
    "\n",
    "                split_score = self.info_gain(impurity_measure, group_A, group_B)\n",
    "\n",
    "    #TODO not sure if score should be low or high, i think high\n",
    "                if split_score > best_split['score']:\n",
    "                    best_split['score'], best_split['feature'], best_split['threshold'] = split_score, feature, threshold\n",
    "\n",
    "        self.splitting_value = best_split['threshold']\n",
    "        self.feature = best_split['feature']\n",
    "        self.score = best_split['score']\n",
    "\n",
    "        print(best_split)\n",
    "\n",
    "        return self.check_split(self.feature, self.splitting_value)\n",
    "\n",
    "    def set_thresholds(self, feature):\n",
    "        \"\"\"\n",
    "        set threshold between every 2 consecutive values of the given feature\n",
    "        :param feature: the feature to set the thresholds according to\n",
    "        :return: an array of values to split the data by according to the given feature\n",
    "        \"\"\"\n",
    "        sorted_by_index = self.data[:, feature].argsort()\n",
    "        thresholds = []\n",
    "        for i in range(len(sorted_by_index) - 1):\n",
    "            thresholds.append((self.data[sorted_by_index[i], feature] + self.data[sorted_by_index[i + 1], feature]) / 2)\n",
    "        return thresholds\n"
   ]
  },
  {
   "cell_type": "code",
   "execution_count": 22,
   "outputs": [
    {
     "name": "stdout",
     "output_type": "stream",
     "text": [
      "{'score': 1, 'feature': None, 'threshold': None}\n"
     ]
    },
    {
     "ename": "TypeError",
     "evalue": "'<=' not supported between instances of 'float' and 'NoneType'",
     "output_type": "error",
     "traceback": [
      "\u001B[1;31m---------------------------------------------------------------------------\u001B[0m",
      "\u001B[1;31mTypeError\u001B[0m                                 Traceback (most recent call last)",
      "Cell \u001B[1;32mIn[22], line 2\u001B[0m\n\u001B[0;32m      1\u001B[0m node \u001B[38;5;241m=\u001B[39m DecisionNode(matrix)\n\u001B[1;32m----> 2\u001B[0m \u001B[43mnode\u001B[49m\u001B[38;5;241;43m.\u001B[39;49m\u001B[43msplit\u001B[49m\u001B[43m(\u001B[49m\u001B[43mcalc_entropy\u001B[49m\u001B[43m)\u001B[49m\n",
      "Cell \u001B[1;32mIn[21], line 74\u001B[0m, in \u001B[0;36mDecisionNode.split\u001B[1;34m(self, impurity_measure)\u001B[0m\n\u001B[0;32m     70\u001B[0m \u001B[38;5;28mself\u001B[39m\u001B[38;5;241m.\u001B[39mscore \u001B[38;5;241m=\u001B[39m best_split[\u001B[38;5;124m'\u001B[39m\u001B[38;5;124mscore\u001B[39m\u001B[38;5;124m'\u001B[39m]\n\u001B[0;32m     72\u001B[0m \u001B[38;5;28mprint\u001B[39m(best_split)\n\u001B[1;32m---> 74\u001B[0m \u001B[38;5;28;01mreturn\u001B[39;00m \u001B[38;5;28;43mself\u001B[39;49m\u001B[38;5;241;43m.\u001B[39;49m\u001B[43mcheck_split\u001B[49m\u001B[43m(\u001B[49m\u001B[38;5;28;43mself\u001B[39;49m\u001B[38;5;241;43m.\u001B[39;49m\u001B[43mfeature\u001B[49m\u001B[43m,\u001B[49m\u001B[43m \u001B[49m\u001B[38;5;28;43mself\u001B[39;49m\u001B[38;5;241;43m.\u001B[39;49m\u001B[43msplitting_value\u001B[49m\u001B[43m)\u001B[49m\n",
      "Cell \u001B[1;32mIn[21], line 34\u001B[0m, in \u001B[0;36mDecisionNode.check_split\u001B[1;34m(self, feature, value)\u001B[0m\n\u001B[0;32m     31\u001B[0m \u001B[38;5;28;01mdef\u001B[39;00m \u001B[38;5;21mcheck_split\u001B[39m(\u001B[38;5;28mself\u001B[39m, feature, value):\n\u001B[0;32m     32\u001B[0m     \u001B[38;5;66;03m# this function divides the data according to a specific feature and value\u001B[39;00m\n\u001B[0;32m     33\u001B[0m     \u001B[38;5;66;03m# you should use this function while testing for the optimal split\u001B[39;00m\n\u001B[1;32m---> 34\u001B[0m     group_A \u001B[38;5;241m=\u001B[39m \u001B[38;5;28mself\u001B[39m\u001B[38;5;241m.\u001B[39mdata[\u001B[38;5;28;43mself\u001B[39;49m\u001B[38;5;241;43m.\u001B[39;49m\u001B[43mdata\u001B[49m\u001B[43m[\u001B[49m\u001B[43m:\u001B[49m\u001B[43m,\u001B[49m\u001B[43mfeature\u001B[49m\u001B[43m]\u001B[49m\u001B[43m \u001B[49m\u001B[38;5;241;43m<\u001B[39;49m\u001B[38;5;241;43m=\u001B[39;49m\u001B[43m \u001B[49m\u001B[43mvalue\u001B[49m]\n\u001B[0;32m     35\u001B[0m     group_B \u001B[38;5;241m=\u001B[39m \u001B[38;5;28mself\u001B[39m\u001B[38;5;241m.\u001B[39mdata[\u001B[38;5;28mself\u001B[39m\u001B[38;5;241m.\u001B[39mdata[:,feature] \u001B[38;5;241m>\u001B[39m value]\n\u001B[0;32m     36\u001B[0m     \u001B[38;5;28;01mreturn\u001B[39;00m group_A, group_B\n",
      "\u001B[1;31mTypeError\u001B[0m: '<=' not supported between instances of 'float' and 'NoneType'"
     ]
    }
   ],
   "source": [
    "node = DecisionNode(matrix)\n",
    "node.split(calc_entropy)"
   ],
   "metadata": {
    "collapsed": false
   }
  },
  {
   "cell_type": "code",
   "execution_count": 46,
   "metadata": {},
   "outputs": [],
   "source": [
    "def build_tree(data, impurity):\n",
    "    \"\"\"\n",
    "    Build a tree using the given impurity measure and training dataset. \n",
    "    You are required to fully grow the tree until all leaves are pure. \n",
    " \n",
    "    Input:\n",
    "    - data: the training dataset.\n",
    "    - impurity: the chosen impurity measure. Notice that you can send a function\n",
    "                as an argument in python.\n",
    " \n",
    "    Output: the root node of the tree.\n",
    "    \"\"\"\n",
    "    root = None\n",
    "    ###########################################################################\n",
    "    # TODO: Implement the function.                                           #\n",
    "    ###########################################################################\n",
    "    print(data.shape)\n",
    "    if (data.shape[0] != 0) & (impurity(data) != 0):\n",
    "        root = DecisionNode(data)\n",
    "        group_A, group_B = root.split(impurity)\n",
    "        if group_A.shape[0] > 0 and impurity(group_A) != 0 :\n",
    "            root.add_child(build_tree(group_A, impurity))\n",
    "        if group_B.shape[0] > 0 and impurity(group_B) != 0 :\n",
    "            root.add_child(build_tree(group_B, impurity))\n",
    "    ###########################################################################\n",
    "    #                             END OF YOUR CODE                            #\n",
    "    ###########################################################################\n",
    "    return root"
   ]
  },
  {
   "cell_type": "code",
   "execution_count": 42,
   "outputs": [
    {
     "data": {
      "text/plain": "array([[1.200e+01, 2.823e+01, 7.677e+01, ..., 2.447e-01, 8.194e-02,\n        1.000e+00],\n       [1.157e+01, 1.904e+01, 7.420e+01, ..., 3.035e-01, 8.284e-02,\n        1.000e+00],\n       [1.646e+01, 2.011e+01, 1.093e+02, ..., 3.054e-01, 9.519e-02,\n        0.000e+00],\n       ...,\n       [1.747e+01, 2.468e+01, 1.161e+02, ..., 2.160e-01, 9.300e-02,\n        0.000e+00],\n       [1.008e+01, 1.511e+01, 6.376e+01, ..., 2.933e-01, 7.697e-02,\n        1.000e+00],\n       [1.674e+01, 2.159e+01, 1.101e+02, ..., 4.863e-01, 8.633e-02,\n        0.000e+00]])"
     },
     "execution_count": 42,
     "metadata": {},
     "output_type": "execute_result"
    }
   ],
   "source": [
    "X_train"
   ],
   "metadata": {
    "collapsed": false
   }
  },
  {
   "cell_type": "code",
   "execution_count": 47,
   "outputs": [
    {
     "name": "stdout",
     "output_type": "stream",
     "text": [
      "(426, 31)\n",
      "{'score': 0.342981396141687, 'feature': 27, 'threshold': 0.14235}\n",
      "(271, 31)\n",
      "{'score': 0.07003408275389443, 'feature': 3, 'threshold': 696.25}\n",
      "(248, 31)\n",
      "{'score': 0.010695659688335954, 'feature': 27, 'threshold': 0.1349}\n",
      "(237, 31)\n",
      "{'score': 0.0027065755314435672, 'feature': 10, 'threshold': 0.62555}\n",
      "(234, 31)\n",
      "{'score': 0.00043830813061569544, 'feature': 21, 'threshold': 33.349999999999994}\n",
      "(18, 31)\n",
      "{'score': 0.1049382716049383, 'feature': 21, 'threshold': 33.56}\n",
      "(3, 31)\n",
      "{'score': 0.4444444444444444, 'feature': 1, 'threshold': 18.630000000000003}\n",
      "(11, 31)\n",
      "{'score': 0.3173553719008265, 'feature': 15, 'threshold': 0.02744}\n",
      "(5, 31)\n",
      "{'score': 0.31999999999999984, 'feature': 0, 'threshold': 13.225000000000001}\n",
      "(23, 31)\n",
      "{'score': 0.2688510817055241, 'feature': 1, 'threshold': 16.375}\n",
      "(18, 31)\n",
      "{'score': 0.09295570079883814, 'feature': 19, 'threshold': 0.0015485}\n",
      "(17, 31)\n",
      "{'score': 0.05190311418685119, 'feature': 1, 'threshold': 18.6}\n",
      "(2, 31)\n",
      "{'score': 0.5, 'feature': 0, 'threshold': 15.809999999999999}\n",
      "(155, 31)\n",
      "{'score': 0.052334711288372186, 'feature': 13, 'threshold': 21.924999999999997}\n",
      "(14, 31)\n",
      "{'score': 0.36281179138322, 'feature': 21, 'threshold': 29.0}\n",
      "(9, 31)\n",
      "{'score': 0.19753086419753085, 'feature': 1, 'threshold': 20.52}\n",
      "(141, 31)\n",
      "{'score': 0.01408379860167999, 'feature': 4, 'threshold': 0.079285}\n",
      "(426, 31)\n",
      "{'score': 0.41086112591404483, 'feature': 27, 'threshold': 0.14235}\n",
      "(271, 31)\n",
      "{'score': 0.12522168411080414, 'feature': 3, 'threshold': 696.25}\n",
      "(248, 31)\n",
      "{'score': 0.03832733760760068, 'feature': 27, 'threshold': 0.1349}\n",
      "(237, 31)\n",
      "{'score': 0.013411980785867132, 'feature': 10, 'threshold': 0.62555}\n",
      "(234, 31)\n",
      "{'score': 0.01107314752016499, 'feature': 21, 'threshold': 33.349999999999994}\n",
      "(18, 31)\n",
      "{'score': 0.2145591551764051, 'feature': 21, 'threshold': 33.56}\n",
      "(3, 31)\n",
      "{'score': 0.6365141682948128, 'feature': 1, 'threshold': 18.630000000000003}\n",
      "(11, 31)\n",
      "{'score': 0.42802612683858005, 'feature': 15, 'threshold': 0.02744}\n",
      "(5, 31)\n",
      "{'score': 0.5004024235381879, 'feature': 0, 'threshold': 13.225000000000001}\n",
      "(23, 31)\n",
      "{'score': 0.34891014550425276, 'feature': 1, 'threshold': 19.72}\n",
      "(10, 31)\n",
      "{'score': 0.6108643020548935, 'feature': 6, 'threshold': 0.073105}\n",
      "(155, 31)\n",
      "{'score': 0.12157023427880262, 'feature': 13, 'threshold': 21.924999999999997}\n",
      "(14, 31)\n",
      "{'score': 0.45865890022995115, 'feature': 21, 'threshold': 29.0}\n",
      "(9, 31)\n",
      "{'score': 0.34883209584303193, 'feature': 1, 'threshold': 20.52}\n",
      "(141, 31)\n",
      "{'score': 0.04216457714907182, 'feature': 4, 'threshold': 0.079285}\n"
     ]
    }
   ],
   "source": [
    "\n",
    "# python support passing a function as arguments to another function.\n",
    "tree_gini = build_tree(data=X_train, impurity=calc_gini)\n",
    "tree_entropy = build_tree(data=X_train, impurity=calc_entropy)"
   ],
   "metadata": {
    "collapsed": false
   }
  },
  {
   "cell_type": "markdown",
   "metadata": {},
   "source": [
    "## Tree evaluation (10 points)\n",
    "\n",
    "Complete the functions `predict` and `calc_accuracy`.\n",
    "\n",
    "After building both trees using the training set (using Gini and Entropy as impurity measures), you should calculate the accuracy on the test set and print the measure that gave you the best test accuracy. For the rest of the exercise, use that impurity measure. (10 points)"
   ]
  },
  {
   "cell_type": "code",
   "execution_count": 44,
   "outputs": [],
   "source": [],
   "metadata": {
    "collapsed": false
   }
  },
  {
   "cell_type": "code",
   "execution_count": 39,
   "outputs": [
    {
     "name": "stdout",
     "output_type": "stream",
     "text": [
      "Node: Feature = 27, Split Value = 0.14235\n",
      "  Node: Feature = 3, Split Value = 696.25\n",
      "    Node: Feature = 27, Split Value = 0.1349\n",
      "      Node: Feature = 10, Split Value = 0.62555\n",
      "        Node: Feature = 21, Split Value = 33.349999999999994\n",
      "          Leaf: Prediction = 0.1049382716049383\n",
      "        Leaf: Prediction = 0.4444444444444444\n",
      "      Node: Feature = 15, Split Value = 0.02744\n",
      "        Leaf: Prediction = 0.31999999999999984\n",
      "    Node: Feature = 1, Split Value = 16.375\n",
      "      Node: Feature = 19, Split Value = 0.0015485\n",
      "        Node: Feature = 1, Split Value = 18.6\n",
      "          Leaf: Prediction = 0.5\n",
      "  Node: Feature = 13, Split Value = 21.924999999999997\n",
      "    Node: Feature = 21, Split Value = 29.0\n",
      "      Leaf: Prediction = 0.19753086419753085\n",
      "    Leaf: Prediction = 0.01408379860167999\n"
     ]
    }
   ],
   "source": [],
   "metadata": {
    "collapsed": false
   }
  },
  {
   "cell_type": "code",
   "execution_count": null,
   "metadata": {},
   "outputs": [],
   "source": [
    "def predict(node, instance):\n",
    "    \"\"\"\n",
    "    Predict a given instance using the decision tree\n",
    " \n",
    "    Input:\n",
    "    - root: the root of the decision tree.\n",
    "    - instance: an row vector from the dataset. \n",
    " \n",
    "    Output: the prediction of the instance.\n",
    "    \"\"\"\n",
    "    pred = None\n",
    "    ###########################################################################\n",
    "    # TODO: Implement the function.                                           #\n",
    "    ###########################################################################\n",
    "    \n",
    "    \n",
    "    \n",
    "    ###########################################################################\n",
    "    #                             END OF YOUR CODE                            #\n",
    "    ###########################################################################\n",
    "    return pred"
   ]
  },
  {
   "cell_type": "code",
   "execution_count": null,
   "metadata": {},
   "outputs": [],
   "source": [
    "def calc_accuracy(node, dataset):\n",
    "    \"\"\"\n",
    "    Predict a given dataset using the decision tree\n",
    " \n",
    "    Input:\n",
    "    - node: a node in the decision tree.\n",
    "    - dataset: the dataset on which the accuracy is evaluated\n",
    " \n",
    "    Output: the accuracy of the decision tree on the given dataset (%).\n",
    "    \"\"\"\n",
    "    accuracy = 0\n",
    "    ###########################################################################\n",
    "    # TODO: Implement the function.                                           #\n",
    "    ###########################################################################\n",
    "    \n",
    "    \n",
    "    \n",
    "    ###########################################################################\n",
    "    #                             END OF YOUR CODE                            #\n",
    "    ###########################################################################\n",
    "    return accuracy"
   ]
  },
  {
   "cell_type": "markdown",
   "metadata": {},
   "source": [
    "## Print the tree (10 points)\n",
    "\n",
    "Complete the function `print_tree`. Your code should do something like this (10 points):\n",
    "```\n",
    "[X0 <= 1],\n",
    "  [X1 <= 2]\n",
    "    [X2 <= 3], \n",
    "       leaf: [{1.0: 10}]\n",
    "       leaf: [{0.0: 10}]\n",
    "    [X4 <= 5], \n",
    "       leaf: [{1.0: 5}]\n",
    "       leaf: [{0.0: 10}]\n",
    "   leaf: [{1.0: 50}]\n",
    "```"
   ]
  },
  {
   "cell_type": "code",
   "execution_count": null,
   "metadata": {},
   "outputs": [],
   "source": [
    "def print_tree(node):\n",
    "    \"\"\"\n",
    "    Prints the tree similar to the example above.\n",
    "    As long as the print is clear, any printing scheme will be fine\n",
    "    \n",
    "    Input:\n",
    "    - node: a node in the decision tree.\n",
    " \n",
    "    Output: This function has no return value.\n",
    "    \"\"\"\n",
    "    \n",
    "    ###########################################################################\n",
    "    # TODO: Implement the function.                                           #\n",
    "    ###########################################################################\n",
    "    \n",
    "    \n",
    "    \n",
    "    ###########################################################################\n",
    "    #                             END OF YOUR CODE                            #\n",
    "    ###########################################################################\n",
    "    return\n",
    "    \n"
   ]
  },
  {
   "cell_type": "markdown",
   "metadata": {},
   "source": [
    "## Post pruning (20 points)\n",
    "\n",
    "Construct a decision tree and perform post pruning: For each leaf in the tree, calculate the test accuracy of the tree assuming no split occurred on the parent of that leaf and find the best such parent (in the sense that not splitting on that parent results in the best testing accuracy among possible parents). Make that parent into a leaf and repeat this process until you are left with the root. On a single plot, draw the training and testing accuracy as a function of the number of internal nodes in the tree. Explain and visualize the results and print your tree (20 points)."
   ]
  },
  {
   "cell_type": "code",
   "execution_count": null,
   "metadata": {},
   "outputs": [],
   "source": [
    "###########################################################################\n",
    "# TODO: Implement the function.                                           #\n",
    "###########################################################################\n",
    "\n",
    "\n",
    "\n",
    "###########################################################################\n",
    "#                             END OF YOUR CODE                            #\n",
    "###########################################################################"
   ]
  }
 ],
 "metadata": {
  "celltoolbar": "Create Assignment",
  "kernelspec": {
   "display_name": "base",
   "language": "python",
   "name": "python3"
  },
  "language_info": {
   "codemirror_mode": {
    "name": "ipython",
    "version": 3
   },
   "file_extension": ".py",
   "mimetype": "text/x-python",
   "name": "python",
   "nbconvert_exporter": "python",
   "pygments_lexer": "ipython3",
   "version": "3.12.2"
  }
 },
 "nbformat": 4,
 "nbformat_minor": 2
}
